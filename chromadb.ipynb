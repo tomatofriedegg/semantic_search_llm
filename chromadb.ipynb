{
 "cells": [
  {
   "cell_type": "markdown",
   "id": "bf8b4619-cd51-43c6-a591-e81a869c8e91",
   "metadata": {},
   "source": [
    "### Build the Chroma DB"
   ]
  },
  {
   "cell_type": "code",
   "execution_count": 1,
   "id": "321bc5d1-27a9-4077-9183-5da0d48a6440",
   "metadata": {
    "tags": []
   },
   "outputs": [],
   "source": [
    "# import chromadb and create client\n",
    "import chromadb\n",
    "import pandas as pd"
   ]
  },
  {
   "cell_type": "code",
   "execution_count": 3,
   "id": "d9d23a1f-fa40-4896-b68b-73dae11f1ff6",
   "metadata": {
    "tags": []
   },
   "outputs": [],
   "source": [
    "file_data = pd.read_csv('imdb_top_1000.csv')\n",
    "client = chromadb.Client()"
   ]
  },
  {
   "cell_type": "code",
   "execution_count": 5,
   "id": "fc6f0dbb-47cc-43ee-a674-f55e7ed75167",
   "metadata": {
    "tags": []
   },
   "outputs": [
    {
     "data": {
      "text/html": [
       "<div>\n",
       "<style scoped>\n",
       "    .dataframe tbody tr th:only-of-type {\n",
       "        vertical-align: middle;\n",
       "    }\n",
       "\n",
       "    .dataframe tbody tr th {\n",
       "        vertical-align: top;\n",
       "    }\n",
       "\n",
       "    .dataframe thead th {\n",
       "        text-align: right;\n",
       "    }\n",
       "</style>\n",
       "<table border=\"1\" class=\"dataframe\">\n",
       "  <thead>\n",
       "    <tr style=\"text-align: right;\">\n",
       "      <th></th>\n",
       "      <th>Poster_Link</th>\n",
       "      <th>Series_Title</th>\n",
       "      <th>Released_Year</th>\n",
       "      <th>Certificate</th>\n",
       "      <th>Runtime</th>\n",
       "      <th>Genre</th>\n",
       "      <th>IMDB_Rating</th>\n",
       "      <th>Overview</th>\n",
       "      <th>Meta_score</th>\n",
       "      <th>Director</th>\n",
       "      <th>Star1</th>\n",
       "      <th>Star2</th>\n",
       "      <th>Star3</th>\n",
       "      <th>Star4</th>\n",
       "      <th>No_of_Votes</th>\n",
       "      <th>Gross</th>\n",
       "    </tr>\n",
       "  </thead>\n",
       "  <tbody>\n",
       "    <tr>\n",
       "      <th>0</th>\n",
       "      <td>https://m.media-amazon.com/images/M/MV5BMDFkYT...</td>\n",
       "      <td>The Shawshank Redemption</td>\n",
       "      <td>1994</td>\n",
       "      <td>A</td>\n",
       "      <td>142 min</td>\n",
       "      <td>Drama</td>\n",
       "      <td>9.3</td>\n",
       "      <td>Two imprisoned men bond over a number of years...</td>\n",
       "      <td>80.0</td>\n",
       "      <td>Frank Darabont</td>\n",
       "      <td>Tim Robbins</td>\n",
       "      <td>Morgan Freeman</td>\n",
       "      <td>Bob Gunton</td>\n",
       "      <td>William Sadler</td>\n",
       "      <td>2343110</td>\n",
       "      <td>28,341,469</td>\n",
       "    </tr>\n",
       "  </tbody>\n",
       "</table>\n",
       "</div>"
      ],
      "text/plain": [
       "                                         Poster_Link  \\\n",
       "0  https://m.media-amazon.com/images/M/MV5BMDFkYT...   \n",
       "\n",
       "               Series_Title Released_Year Certificate  Runtime  Genre  \\\n",
       "0  The Shawshank Redemption          1994           A  142 min  Drama   \n",
       "\n",
       "   IMDB_Rating                                           Overview  Meta_score  \\\n",
       "0          9.3  Two imprisoned men bond over a number of years...        80.0   \n",
       "\n",
       "         Director        Star1           Star2       Star3           Star4  \\\n",
       "0  Frank Darabont  Tim Robbins  Morgan Freeman  Bob Gunton  William Sadler   \n",
       "\n",
       "   No_of_Votes       Gross  \n",
       "0      2343110  28,341,469  "
      ]
     },
     "execution_count": 5,
     "metadata": {},
     "output_type": "execute_result"
    }
   ],
   "source": [
    "file_data.head(1)"
   ]
  },
  {
   "cell_type": "code",
   "execution_count": 24,
   "id": "07301ff0-d492-4512-ae53-81b68cf7e1ae",
   "metadata": {},
   "outputs": [],
   "source": [
    "# get the data from file_data and create chromadb collection\n",
    "Overviews = []\n",
    "metadatas = []\n",
    "ids = []\n",
    "\n",
    "for index, row in file_data.iterrows():\n",
    "    Overviews.append(row['Overview'])\n",
    "    metadatas.append({\n",
    "                     \"Title\": row['Series_Title'],\n",
    "                     \"Poster Links\": row['Poster_Link'],\n",
    "                     \"Released_Year\":row['Released_Year'],\n",
    "                     \"Genre\":row['Genre'],\n",
    "                     'Overview': row['Overview'],\n",
    "                     \"No. of Votes\" : row['No_of_Votes'],\n",
    "                     \"Views\" : row['Gross']})\n",
    "    ids.append(str(index + 1))"
   ]
  },
  {
   "cell_type": "code",
   "execution_count": 26,
   "id": "1f693f39-cb2a-482f-8829-67c2cb28b960",
   "metadata": {
    "tags": []
   },
   "outputs": [],
   "source": [
    "# Check if the collection exists and delete it\n",
    "existing_collections = client.list_collections()\n",
    "if 'imbd_collection' in [collection.name for collection in existing_collections]:\n",
    "    client.delete_collection('imbd_collection')"
   ]
  },
  {
   "cell_type": "code",
   "execution_count": 28,
   "id": "9fb5c9e4-d10e-4f7e-aac5-eddd4276800f",
   "metadata": {
    "tags": []
   },
   "outputs": [
    {
     "name": "stdout",
     "output_type": "stream",
     "text": [
      "[]\n"
     ]
    }
   ],
   "source": [
    "print(client.list_collections())"
   ]
  },
  {
   "cell_type": "code",
   "execution_count": 30,
   "id": "4c651573-a7bb-4c73-a17b-fe630c5dce31",
   "metadata": {
    "tags": []
   },
   "outputs": [],
   "source": [
    "# create collection of imbd files \n",
    "imbd_collection = client.create_collection(\"imbd_collection\")\n",
    "\n",
    "# add files to the chromadb collection\n",
    "imbd_collection.add(\n",
    "    documents=Overviews,\n",
    "    metadatas=metadatas,\n",
    "    ids=ids\n",
    ")"
   ]
  },
  {
   "cell_type": "code",
   "execution_count": 42,
   "id": "3f573479-b5a4-4bee-ae7b-67be2ae103a3",
   "metadata": {},
   "outputs": [
    {
     "data": {
      "text/plain": [
       "{'ids': [['755', '790']],\n",
       " 'distances': [[0.7472079396247864, 1.1919960975646973]],\n",
       " 'metadatas': [[{'Genre': 'Comedy, Drama, Romance',\n",
       "    'No. of Votes': 472242,\n",
       "    'Overview': \"An offbeat romantic comedy about a woman who doesn't believe true love exists, and the young man who falls for her.\",\n",
       "    'Poster Links': 'https://m.media-amazon.com/images/M/MV5BMTk5MjM4OTU1OV5BMl5BanBnXkFtZTcwODkzNDIzMw@@._V1_UX67_CR0,0,67,98_AL_.jpg',\n",
       "    'Released_Year': '2009',\n",
       "    'Title': '(500) Days of Summer',\n",
       "    'Views': '32,391,374'},\n",
       "   {'Genre': 'Comedy, Drama',\n",
       "    'No. of Votes': 178565,\n",
       "    'Overview': \"A lovelorn screenwriter becomes desperate as he tries and fails to adapt 'The Orchid Thief' by Susan Orlean for the screen.\",\n",
       "    'Poster Links': 'https://m.media-amazon.com/images/M/MV5BZjIwZWU0ZDItNzBlNS00MDIwLWFlZjctZTJjODdjZWYxNzczL2ltYWdlXkEyXkFqcGdeQXVyMTMxODk2OTU@._V1_UX67_CR0,0,67,98_AL_.jpg',\n",
       "    'Released_Year': '2002',\n",
       "    'Title': 'Adaptation.',\n",
       "    'Views': '22,245,861'}]],\n",
       " 'embeddings': None,\n",
       " 'documents': [[\"An offbeat romantic comedy about a woman who doesn't believe true love exists, and the young man who falls for her.\",\n",
       "   \"A lovelorn screenwriter becomes desperate as he tries and fails to adapt 'The Orchid Thief' by Susan Orlean for the screen.\"]],\n",
       " 'uris': None,\n",
       " 'data': None}"
      ]
     },
     "execution_count": 42,
     "metadata": {},
     "output_type": "execute_result"
    }
   ],
   "source": [
    "# query the database to get the answer from vectorized data\n",
    "results = imbd_collection.query(\n",
    "    query_texts=[\"What is the most funny romantic movie?\"], \n",
    "    n_results=2\n",
    ")\n",
    "\n",
    "results"
   ]
  },
  {
   "cell_type": "code",
   "execution_count": null,
   "id": "a0d8664d-163f-4aab-af39-4946cba4e5b8",
   "metadata": {},
   "outputs": [],
   "source": []
  },
  {
   "cell_type": "code",
   "execution_count": null,
   "id": "606a5a6b-ae40-4a80-84dd-7fcd4887f899",
   "metadata": {},
   "outputs": [],
   "source": []
  },
  {
   "cell_type": "code",
   "execution_count": null,
   "id": "715004aa-c711-410f-855b-f5fa4f9f71d3",
   "metadata": {},
   "outputs": [],
   "source": []
  },
  {
   "cell_type": "code",
   "execution_count": null,
   "id": "32f1763f-208e-4f81-9735-13d45ff2cfae",
   "metadata": {},
   "outputs": [],
   "source": []
  }
 ],
 "metadata": {
  "kernelspec": {
   "display_name": "Python 3 (ipykernel)",
   "language": "python",
   "name": "python3"
  },
  "language_info": {
   "codemirror_mode": {
    "name": "ipython",
    "version": 3
   },
   "file_extension": ".py",
   "mimetype": "text/x-python",
   "name": "python",
   "nbconvert_exporter": "python",
   "pygments_lexer": "ipython3",
   "version": "3.11.5"
  }
 },
 "nbformat": 4,
 "nbformat_minor": 5
}
