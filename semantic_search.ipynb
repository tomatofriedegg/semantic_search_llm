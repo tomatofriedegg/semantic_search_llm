{
 "cells": [
  {
   "cell_type": "code",
   "execution_count": 177,
   "id": "d98aa543-f195-4d1c-b96f-0e095eef09a8",
   "metadata": {
    "tags": []
   },
   "outputs": [],
   "source": [
    "# !pip install sentence-transformers\n",
    "# !pip install chromadb\n"
   ]
  },
  {
   "cell_type": "code",
   "execution_count": 122,
   "id": "10099c71-3729-4a2d-b859-baf9a8b940de",
   "metadata": {
    "tags": []
   },
   "outputs": [],
   "source": [
    "from sentence_transformers import SentenceTransformer\n",
    "import pandas as pd\n",
    "from sklearn.decomposition import PCA\n",
    "import matplotlib.pyplot as plt\n",
    "from scipy.spatial.distance import cosine"
   ]
  },
  {
   "cell_type": "code",
   "execution_count": 97,
   "id": "6ab17845-47f5-43df-91be-4826eb9dcc4c",
   "metadata": {
    "tags": []
   },
   "outputs": [
    {
     "name": "stderr",
     "output_type": "stream",
     "text": [
      "/Users/hongfanlu/anaconda3/lib/python3.11/site-packages/huggingface_hub/file_download.py:1132: FutureWarning: `resume_download` is deprecated and will be removed in version 1.0.0. Downloads always resume when possible. If you want to force a new download, use `force_download=True`.\n",
      "  warnings.warn(\n"
     ]
    }
   ],
   "source": [
    "model = SentenceTransformer('all-MiniLM-L6-v2')\n",
    "movie_df = pd.read_csv('imdb_top_1000.csv')"
   ]
  },
  {
   "cell_type": "code",
   "execution_count": 98,
   "id": "f491633e-a89c-432e-a37f-56723027467b",
   "metadata": {
    "tags": []
   },
   "outputs": [
    {
     "name": "stdout",
     "output_type": "stream",
     "text": [
      "Movie Count: 1000\n"
     ]
    },
    {
     "data": {
      "text/plain": [
       "(1000, 16)"
      ]
     },
     "execution_count": 98,
     "metadata": {},
     "output_type": "execute_result"
    }
   ],
   "source": [
    "# movie_df['genres'] = movie_df['Genre'].apply(lambda x: ' '.join(x))\n",
    "print('Movie Count:', movie_df.shape[0])\n",
    "movie_df.shape"
   ]
  },
  {
   "cell_type": "code",
   "execution_count": 184,
   "id": "cd1bee80-cd64-4572-bb32-081d897346ba",
   "metadata": {
    "tags": []
   },
   "outputs": [
    {
     "data": {
      "text/plain": [
       "(1000, 20)"
      ]
     },
     "execution_count": 184,
     "metadata": {},
     "output_type": "execute_result"
    }
   ],
   "source": [
    "descriptions = movie_df['Overview'].tolist()\n",
    "embeddings = model.encode(descriptions)\n",
    "embeddings.shape\n",
    "movie_df['Overview_embeddings'] = list(embeddings)\n",
    "movie_df.shape"
   ]
  },
  {
   "cell_type": "code",
   "execution_count": 101,
   "id": "62c1e15c-0ccd-49c0-8808-28eed636c584",
   "metadata": {
    "tags": []
   },
   "outputs": [],
   "source": [
    "movies_to_visualize = movie_df.head(20)\n",
    "embeddings = list(movies_to_visualize['Overview_embeddings'])\n",
    "titles = list(movies_to_visualize['Series_Title']+\"-\"+movies_to_visualize['Genre'])\n",
    "pca = PCA(n_components = 2)\n",
    "embeddings_2d = pca.fit_transform(embeddings)"
   ]
  },
  {
   "cell_type": "code",
   "execution_count": 179,
   "id": "0c14aaa0-6618-4ba3-849d-d041090311a2",
   "metadata": {
    "tags": []
   },
   "outputs": [],
   "source": [
    "# plt.figure(figsize = (10,8))\n",
    "# for i, (embedding, title) in enumerate(zip(embeddings_2d, titles)):\n",
    "#     x,y = embedding\n",
    "#     plt.scatter(x,y)\n",
    "#     plt.text(x, y, title, fontsize=9)\n",
    "    \n",
    "# plt.title('2D Visualization of Movie Description Embeddings')\n",
    "# plt.xlabel('PCA Component 1')\n",
    "# plt.ylabel('PCA Component 2')\n",
    "# plt.grid(True)\n",
    "# plt.show()"
   ]
  },
  {
   "cell_type": "code",
   "execution_count": 111,
   "id": "411d53f2-fb95-41cc-9440-a6a487573c0c",
   "metadata": {
    "tags": []
   },
   "outputs": [],
   "source": [
    "genres = movie_df['Genre'].tolist()\n",
    "embeddings = model.encode(genres)\n",
    "movie_df['genre_embeddings'] = list(embeddings)\n",
    "movies_to_visualize = movie_df.head(20)\n",
    "embeddings = list(movies_to_visualize['genre_embeddings'])\n",
    "titles = list(movies_to_visualize['Series_Title']+\"-\"+movies_to_visualize['Genre'])"
   ]
  },
  {
   "cell_type": "code",
   "execution_count": 117,
   "id": "75e95805-5f6f-4bee-aec6-0e2bb65b3db1",
   "metadata": {
    "tags": []
   },
   "outputs": [],
   "source": [
    "pca = PCA(n_components = 2)\n",
    "embeddings_2d = pca.fit_transform(embeddings)"
   ]
  },
  {
   "cell_type": "code",
   "execution_count": 190,
   "id": "a4528a9b-8202-4289-9ba2-5beb1876626b",
   "metadata": {
    "tags": []
   },
   "outputs": [],
   "source": [
    "# plt.figure(figsize = (10,8))\n",
    "# for i, (embedding, title) in enumerate(zip(embeddings_2d, titles)):\n",
    "#     x,y = embedding\n",
    "#     plt.scatter(x,y)\n",
    "#     plt.text(x, y, title, fontsize=9)\n",
    "    \n",
    "# plt.title('2D Visualization of Movie Description Embeddings')\n",
    "# plt.xlabel('PCA Component 1')\n",
    "# plt.ylabel('PCA Component 2')\n",
    "# plt.grid(True)\n",
    "# plt.show()"
   ]
  },
  {
   "cell_type": "markdown",
   "id": "043594f1-309b-4979-9183-1f4ca6249492",
   "metadata": {},
   "source": [
    "### Build simple search"
   ]
  },
  {
   "cell_type": "code",
   "execution_count": 124,
   "id": "e629516c-8ba5-46ef-8542-5691d303118e",
   "metadata": {
    "tags": []
   },
   "outputs": [],
   "source": [
    "def find_top_n_matches(query, df, embedding_field, n = 5):\n",
    "    \"\"\"\n",
    "    Find the top N matches in df for the given query.\n",
    "    \n",
    "    :param query: The search query string.\n",
    "    :param df: The DataFrame with a 'Overview_embedding' column.\n",
    "    :param n: Number of top matches to return.\n",
    "    :return: A DataFrame with the top N matches.\n",
    "    \"\"\"\n",
    "    # Calculate the embedding for the query\n",
    "    query_embedding = model.encode([query])[0]\n",
    "    \n",
    "    # Calculate the similarity with all descriptions\n",
    "    df['similarity'] = df[embedding_field].apply(lambda emb: 1 - cosine(query_embedding, emb))\n",
    "    \n",
    "    # Sort by similarity\n",
    "    top_n = df.sort_values(by = 'similarity', ascending = False).head(n)\n",
    "    \n",
    "    #Drop the similarity column for the final output\n",
    "    return top_n.drop(columns = ['similarity'])"
   ]
  },
  {
   "cell_type": "code",
   "execution_count": 188,
   "id": "c1e25b3f-5c8f-4e75-bfbc-5d03dd8848b1",
   "metadata": {
    "tags": []
   },
   "outputs": [
    {
     "data": {
      "text/html": [
       "<div>\n",
       "<style scoped>\n",
       "    .dataframe tbody tr th:only-of-type {\n",
       "        vertical-align: middle;\n",
       "    }\n",
       "\n",
       "    .dataframe tbody tr th {\n",
       "        vertical-align: top;\n",
       "    }\n",
       "\n",
       "    .dataframe thead th {\n",
       "        text-align: right;\n",
       "    }\n",
       "</style>\n",
       "<table border=\"1\" class=\"dataframe\">\n",
       "  <thead>\n",
       "    <tr style=\"text-align: right;\">\n",
       "      <th></th>\n",
       "      <th>Poster_Link</th>\n",
       "      <th>Series_Title</th>\n",
       "      <th>Released_Year</th>\n",
       "      <th>Certificate</th>\n",
       "      <th>Runtime</th>\n",
       "      <th>Genre</th>\n",
       "      <th>IMDB_Rating</th>\n",
       "      <th>Overview</th>\n",
       "      <th>Meta_score</th>\n",
       "      <th>Director</th>\n",
       "      <th>Star1</th>\n",
       "      <th>Star2</th>\n",
       "      <th>Star3</th>\n",
       "      <th>Star4</th>\n",
       "      <th>No_of_Votes</th>\n",
       "      <th>Gross</th>\n",
       "      <th>Overview_embeddings</th>\n",
       "      <th>genre_embeddings</th>\n",
       "      <th>compound_embedding</th>\n",
       "    </tr>\n",
       "  </thead>\n",
       "  <tbody>\n",
       "    <tr>\n",
       "      <th>750</th>\n",
       "      <td>https://m.media-amazon.com/images/M/MV5BNGQwZj...</td>\n",
       "      <td>The Hangover</td>\n",
       "      <td>2009</td>\n",
       "      <td>UA</td>\n",
       "      <td>100 min</td>\n",
       "      <td>Comedy</td>\n",
       "      <td>7.7</td>\n",
       "      <td>Three buddies wake up from a bachelor party in...</td>\n",
       "      <td>73.0</td>\n",
       "      <td>Todd Phillips</td>\n",
       "      <td>Zach Galifianakis</td>\n",
       "      <td>Bradley Cooper</td>\n",
       "      <td>Justin Bartha</td>\n",
       "      <td>Ed Helms</td>\n",
       "      <td>717559</td>\n",
       "      <td>277,322,503</td>\n",
       "      <td>[0.02279045, 0.00785676, -0.029767714, 0.02614...</td>\n",
       "      <td>[-0.042611323, -0.04620106, -0.034571048, 0.01...</td>\n",
       "      <td>[0.0052326643, -0.03675479, -0.058400933, 0.00...</td>\n",
       "    </tr>\n",
       "  </tbody>\n",
       "</table>\n",
       "</div>"
      ],
      "text/plain": [
       "                                           Poster_Link  Series_Title  \\\n",
       "750  https://m.media-amazon.com/images/M/MV5BNGQwZj...  The Hangover   \n",
       "\n",
       "    Released_Year Certificate  Runtime   Genre  IMDB_Rating  \\\n",
       "750          2009          UA  100 min  Comedy          7.7   \n",
       "\n",
       "                                              Overview  Meta_score  \\\n",
       "750  Three buddies wake up from a bachelor party in...        73.0   \n",
       "\n",
       "          Director              Star1           Star2          Star3  \\\n",
       "750  Todd Phillips  Zach Galifianakis  Bradley Cooper  Justin Bartha   \n",
       "\n",
       "        Star4  No_of_Votes        Gross  \\\n",
       "750  Ed Helms       717559  277,322,503   \n",
       "\n",
       "                                   Overview_embeddings  \\\n",
       "750  [0.02279045, 0.00785676, -0.029767714, 0.02614...   \n",
       "\n",
       "                                      genre_embeddings  \\\n",
       "750  [-0.042611323, -0.04620106, -0.034571048, 0.01...   \n",
       "\n",
       "                                    compound_embedding  \n",
       "750  [0.0052326643, -0.03675479, -0.058400933, 0.00...  "
      ]
     },
     "execution_count": 188,
     "metadata": {},
     "output_type": "execute_result"
    }
   ],
   "source": [
    "example_query = 'happy'\n",
    "find_top_n_matches(example_query, movie_df, 'genre_embeddings',n  = 1)"
   ]
  },
  {
   "cell_type": "markdown",
   "id": "88e5b43b-fe6d-4ba7-81b1-4d1c6c467910",
   "metadata": {},
   "source": [
    "### Combine Genre and Description Embedding"
   ]
  },
  {
   "cell_type": "code",
   "execution_count": 159,
   "id": "7cdaf7c6-7a52-48fc-b574-229562ba1741",
   "metadata": {
    "tags": []
   },
   "outputs": [],
   "source": [
    "embeddings = model.encode((movie_df['Genre'] + ',' + movie_df['Overview']).tolist()) # Generate a vector useful for searching of the following movie:\n",
    "movie_df['compound_embedding'] = list(embeddings)"
   ]
  },
  {
   "cell_type": "code",
   "execution_count": 186,
   "id": "88c00343-ace9-4331-87ff-91b3951575b7",
   "metadata": {
    "tags": []
   },
   "outputs": [
    {
     "data": {
      "text/html": [
       "<div>\n",
       "<style scoped>\n",
       "    .dataframe tbody tr th:only-of-type {\n",
       "        vertical-align: middle;\n",
       "    }\n",
       "\n",
       "    .dataframe tbody tr th {\n",
       "        vertical-align: top;\n",
       "    }\n",
       "\n",
       "    .dataframe thead th {\n",
       "        text-align: right;\n",
       "    }\n",
       "</style>\n",
       "<table border=\"1\" class=\"dataframe\">\n",
       "  <thead>\n",
       "    <tr style=\"text-align: right;\">\n",
       "      <th></th>\n",
       "      <th>Poster_Link</th>\n",
       "      <th>Series_Title</th>\n",
       "      <th>Released_Year</th>\n",
       "      <th>Certificate</th>\n",
       "      <th>Runtime</th>\n",
       "      <th>Genre</th>\n",
       "      <th>IMDB_Rating</th>\n",
       "      <th>Overview</th>\n",
       "      <th>Meta_score</th>\n",
       "      <th>Director</th>\n",
       "      <th>Star1</th>\n",
       "      <th>Star2</th>\n",
       "      <th>Star3</th>\n",
       "      <th>Star4</th>\n",
       "      <th>No_of_Votes</th>\n",
       "      <th>Gross</th>\n",
       "      <th>Overview_embeddings</th>\n",
       "      <th>genre_embeddings</th>\n",
       "      <th>compound_embedding</th>\n",
       "    </tr>\n",
       "  </thead>\n",
       "  <tbody>\n",
       "    <tr>\n",
       "      <th>135</th>\n",
       "      <td>https://m.media-amazon.com/images/M/MV5BMWYwOT...</td>\n",
       "      <td>Klaus</td>\n",
       "      <td>2019</td>\n",
       "      <td>PG</td>\n",
       "      <td>96 min</td>\n",
       "      <td>Animation, Adventure, Comedy</td>\n",
       "      <td>8.2</td>\n",
       "      <td>A simple act of kindness always sparks another...</td>\n",
       "      <td>65.0</td>\n",
       "      <td>Sergio Pablos</td>\n",
       "      <td>Carlos Martínez López</td>\n",
       "      <td>Jason Schwartzman</td>\n",
       "      <td>J.K. Simmons</td>\n",
       "      <td>Rashida Jones</td>\n",
       "      <td>104761</td>\n",
       "      <td>NaN</td>\n",
       "      <td>[-0.07809585, 0.061933506, 0.069953576, -0.009...</td>\n",
       "      <td>[-0.038672104, -0.0037281357, -0.017469369, 0....</td>\n",
       "      <td>[-0.065673426, 0.045164164, 0.046229813, -0.02...</td>\n",
       "    </tr>\n",
       "  </tbody>\n",
       "</table>\n",
       "</div>"
      ],
      "text/plain": [
       "                                           Poster_Link Series_Title  \\\n",
       "135  https://m.media-amazon.com/images/M/MV5BMWYwOT...        Klaus   \n",
       "\n",
       "    Released_Year Certificate Runtime                         Genre  \\\n",
       "135          2019          PG  96 min  Animation, Adventure, Comedy   \n",
       "\n",
       "     IMDB_Rating                                           Overview  \\\n",
       "135          8.2  A simple act of kindness always sparks another...   \n",
       "\n",
       "     Meta_score       Director                  Star1              Star2  \\\n",
       "135        65.0  Sergio Pablos  Carlos Martínez López  Jason Schwartzman   \n",
       "\n",
       "            Star3          Star4  No_of_Votes Gross  \\\n",
       "135  J.K. Simmons  Rashida Jones       104761   NaN   \n",
       "\n",
       "                                   Overview_embeddings  \\\n",
       "135  [-0.07809585, 0.061933506, 0.069953576, -0.009...   \n",
       "\n",
       "                                      genre_embeddings  \\\n",
       "135  [-0.038672104, -0.0037281357, -0.017469369, 0....   \n",
       "\n",
       "                                    compound_embedding  \n",
       "135  [-0.065673426, 0.045164164, 0.046229813, -0.02...  "
      ]
     },
     "execution_count": 186,
     "metadata": {},
     "output_type": "execute_result"
    }
   ],
   "source": [
    "example_query = 'happy'\n",
    "find_top_n_matches(example_query, movie_df, 'compound_embedding',n=1)"
   ]
  },
  {
   "cell_type": "markdown",
   "id": "5e8ec359-4750-4c16-b3b8-0defb3468794",
   "metadata": {},
   "source": [
    "### Build the ChromaDB"
   ]
  },
  {
   "cell_type": "code",
   "execution_count": 182,
   "id": "c079d5bc-7e89-4403-a8d5-8dcb55b7b6af",
   "metadata": {
    "tags": []
   },
   "outputs": [],
   "source": []
  },
  {
   "cell_type": "code",
   "execution_count": null,
   "id": "afeece23-15b3-4264-ad9d-8c09374fea48",
   "metadata": {},
   "outputs": [],
   "source": []
  },
  {
   "cell_type": "code",
   "execution_count": null,
   "id": "db22e6d9-fea0-4a00-8cc4-a635703a85fd",
   "metadata": {},
   "outputs": [],
   "source": []
  },
  {
   "cell_type": "code",
   "execution_count": null,
   "id": "8bba37b7-a761-4506-84c9-1dacfadd85da",
   "metadata": {},
   "outputs": [],
   "source": []
  },
  {
   "cell_type": "code",
   "execution_count": null,
   "id": "2b27bb93-ee4c-43e2-9574-92cf7180a7e0",
   "metadata": {},
   "outputs": [],
   "source": []
  },
  {
   "cell_type": "code",
   "execution_count": null,
   "id": "c6915568-c0c2-49f4-ae40-b65d19c7ae14",
   "metadata": {},
   "outputs": [],
   "source": []
  }
 ],
 "metadata": {
  "kernelspec": {
   "display_name": "Python 3 (ipykernel)",
   "language": "python",
   "name": "python3"
  },
  "language_info": {
   "codemirror_mode": {
    "name": "ipython",
    "version": 3
   },
   "file_extension": ".py",
   "mimetype": "text/x-python",
   "name": "python",
   "nbconvert_exporter": "python",
   "pygments_lexer": "ipython3",
   "version": "3.11.5"
  }
 },
 "nbformat": 4,
 "nbformat_minor": 5
}
